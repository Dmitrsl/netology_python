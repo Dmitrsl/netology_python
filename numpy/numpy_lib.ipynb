{
  "nbformat": 4,
  "nbformat_minor": 0,
  "metadata": {
    "colab": {
      "name": "numpy_lib.ipynb",
      "provenance": [],
      "collapsed_sections": []
    },
    "kernelspec": {
      "name": "python3",
      "display_name": "Python 3"
    }
  },
  "cells": [
    {
      "cell_type": "markdown",
      "metadata": {
        "id": "PiqZiNHhs6g2",
        "colab_type": "text"
      },
      "source": [
        "## Задание 1\n",
        "Создайте numpy array с элементами от числа N до 0 (например, для N = 10 это будет array([9, 8, 7, 6, 5, 4, 3, 2, 1, 0]))."
      ]
    },
    {
      "cell_type": "code",
      "metadata": {
        "id": "b3-7Su03sxMz",
        "colab_type": "code",
        "colab": {}
      },
      "source": [
        "import numpy as np\n",
        "\n",
        "def numpy_array(N: int):\n",
        "    return np.arange(N)[::-1]\n",
        "def numpy_array_(N: int):\n",
        "    return np.arange(start=N-1, stop=-1, step=-1)"
      ],
      "execution_count": null,
      "outputs": []
    },
    {
      "cell_type": "code",
      "metadata": {
        "id": "HSzRQaJIs9Gm",
        "colab_type": "code",
        "colab": {
          "base_uri": "https://localhost:8080/",
          "height": 87
        },
        "outputId": "1a1ef239-d236-4c93-ee8e-203f32e027ff"
      },
      "source": [
        "%%time\n",
        "numpy_array(34)"
      ],
      "execution_count": null,
      "outputs": [
        {
          "output_type": "stream",
          "text": [
            "CPU times: user 44 µs, sys: 0 ns, total: 44 µs\n",
            "Wall time: 48.2 µs\n"
          ],
          "name": "stdout"
        },
        {
          "output_type": "execute_result",
          "data": {
            "text/plain": [
              "array([33, 32, 31, 30, 29, 28, 27, 26, 25, 24, 23, 22, 21, 20, 19, 18, 17,\n",
              "       16, 15, 14, 13, 12, 11, 10,  9,  8,  7,  6,  5,  4,  3,  2,  1,  0])"
            ]
          },
          "metadata": {
            "tags": []
          },
          "execution_count": 69
        }
      ]
    },
    {
      "cell_type": "code",
      "metadata": {
        "id": "4g8OA_SFtz8L",
        "colab_type": "code",
        "colab": {
          "base_uri": "https://localhost:8080/",
          "height": 70
        },
        "outputId": "19b7d46c-0c37-4938-c3f9-18b8b455c5a3"
      },
      "source": [
        "%%time\n",
        "numpy_array_(10)"
      ],
      "execution_count": null,
      "outputs": [
        {
          "output_type": "stream",
          "text": [
            "CPU times: user 29 µs, sys: 2 µs, total: 31 µs\n",
            "Wall time: 34.3 µs\n"
          ],
          "name": "stdout"
        },
        {
          "output_type": "execute_result",
          "data": {
            "text/plain": [
              "array([9, 8, 7, 6, 5, 4, 3, 2, 1, 0])"
            ]
          },
          "metadata": {
            "tags": []
          },
          "execution_count": 70
        }
      ]
    },
    {
      "cell_type": "markdown",
      "metadata": {
        "id": "Fh8l4kDXvCl6",
        "colab_type": "text"
      },
      "source": [
        "## Задание 2\n",
        "Создайте диагональную матрицу с элементами от N до 0. Посчитайте сумму ее значений на диагонали."
      ]
    },
    {
      "cell_type": "code",
      "metadata": {
        "id": "wNUXTXzSvBkn",
        "colab_type": "code",
        "colab": {
          "base_uri": "https://localhost:8080/",
          "height": 34
        },
        "outputId": "f7bcf568-91dd-4a32-cc97-bec70a91cafb"
      },
      "source": [
        "def diag_array(N: int):\n",
        "    return np.diag(np.arange(N)[::-1]).sum()\n",
        "\n",
        "diag_array(35)"
      ],
      "execution_count": null,
      "outputs": [
        {
          "output_type": "execute_result",
          "data": {
            "text/plain": [
              "595"
            ]
          },
          "metadata": {
            "tags": []
          },
          "execution_count": 34
        }
      ]
    },
    {
      "cell_type": "markdown",
      "metadata": {
        "id": "HJNxLxD4yc7Q",
        "colab_type": "text"
      },
      "source": [
        "## Задание 3\n",
        "Решите систему уравнений:  \n",
        "4x + 2y + z = 4  \n",
        "x + 3y = 12  \n",
        "5y + 4z = -3  "
      ]
    },
    {
      "cell_type": "code",
      "metadata": {
        "id": "C2oNA2wau4_o",
        "colab_type": "code",
        "colab": {
          "base_uri": "https://localhost:8080/",
          "height": 34
        },
        "outputId": "0d6fc38c-7a02-4452-c119-3b28ca0bad21"
      },
      "source": [
        "M = np.array([[4, 2, 1], [1, 3, 0], [0, 5, 4]])\n",
        "v = np.array([4., 12., -3.])\n",
        "x = np.linalg.solve(M, v)\n",
        "print(f'x = {round(x[0], 2)}, y = {round(x[1], 2)}, z = {round(x[2], 2)}')"
      ],
      "execution_count": null,
      "outputs": [
        {
          "output_type": "stream",
          "text": [
            "x = 0.47, y = 3.84, z = -5.56\n"
          ],
          "name": "stdout"
        }
      ]
    },
    {
      "cell_type": "code",
      "metadata": {
        "id": "aF0xHrkWzdcm",
        "colab_type": "code",
        "colab": {
          "base_uri": "https://localhost:8080/",
          "height": 70
        },
        "outputId": "5af49da4-4422-43c1-f6d8-be7b46b64623"
      },
      "source": [
        "print(M @ x, v, np.isclose(M @ x, v), sep='\\n')"
      ],
      "execution_count": null,
      "outputs": [
        {
          "output_type": "stream",
          "text": [
            "[ 4. 12. -3.]\n",
            "[ 4. 12. -3.]\n",
            "[ True  True  True]\n"
          ],
          "name": "stdout"
        }
      ]
    },
    {
      "cell_type": "code",
      "metadata": {
        "id": "m5VzctWqzxim",
        "colab_type": "code",
        "colab": {}
      },
      "source": [
        ""
      ],
      "execution_count": null,
      "outputs": []
    }
  ]
}